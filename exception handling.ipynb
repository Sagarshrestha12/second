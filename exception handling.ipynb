{
 "cells": [
  {
   "cell_type": "code",
   "execution_count": 13,
   "metadata": {},
   "outputs": [
    {
     "name": "stdout",
     "output_type": "stream",
     "text": [
      "enter some interger numberfdsa\n",
      "exception= invalid literal for int() with base 10: 'fdsa'\n",
      "rest of the app\n"
     ]
    }
   ],
   "source": [
    "# while writing the except statement default except must be at last \n",
    "# base class must be first and derived class must be at second \n",
    "# else block is executed when there occurs no error in try block\n",
    "try:\n",
    "        x=int(input(\"enter some interger number\"));\n",
    "        y=10/x #This line will raise the Division by error which is child class of the ArthemeticError class\n",
    "        # it also may raise the value error if the x is of the integer type.\n",
    "        print(y)\n",
    "        print(10+\"ratan\")# This line raise the TypeError in try block\n",
    "except ArithmeticError as a:\n",
    "        print(\"exception=\",a)\n",
    "except TypeError as e:\n",
    "        print(\"operation are not supported\")\n",
    "except ValueError as t:\n",
    "    print(\"exception=\",t)\n",
    "except:\n",
    "        print(\"default except must be at last\")\n",
    "else:\n",
    "        print(\"no exception in app\")\n",
    "print(\"rest of the app\")\n",
    "        "
   ]
  },
  {
   "cell_type": "code",
   "execution_count": 31,
   "metadata": {},
   "outputs": [
    {
     "name": "stdout",
     "output_type": "stream",
     "text": [
      "enter the integer2\n",
      "exception= unsupported operand type(s) for +: 'int' and 'str'\n",
      "Finally block is always executed and is used to write resource realeasing code\n",
      "\n",
      "try block\n",
      "Finally block\n",
      "\n",
      "klsdfj\n",
      "lksdjf\n",
      "finally\n"
     ]
    }
   ],
   "source": [
    "# Handling more than one exception using single except block example\n",
    "# Exception and BaseException class is able to handle all exceptions\n",
    "# Finally block is executed irrespective of the try-except block and is used to write the resource releasing code\n",
    "try:\n",
    "    x=int(input(\"enter the integer\"))\n",
    "    y=10/x;\n",
    "    print(10+\"ratan\")\n",
    "# This is the block    \n",
    "except (ArithmeticError,TypeError) as e:\n",
    "    print(\"exception=\",e)\n",
    "except BaseException as e:\n",
    "    print(\"other exception occured other than ar and ty err\",e)\n",
    "else:\n",
    "    print('NO error occured')\n",
    "finally:\n",
    "    print(\"Finally block is always executed and is used to write resource realeasing code\")\n",
    "\n",
    "# Combination of the try and catch block is also possible    \n",
    "try:\n",
    "    print(\"\\ntry block\");\n",
    "finally:\n",
    "    print(\"Finally block\")\n",
    "\n",
    "\n",
    "# else block must be presence with except block otherwise it will raise error showing invalid syntax\n",
    "try:\n",
    "    print(\"\\nklsdfj\")\n",
    "except:\n",
    "    print('Except block')\n",
    "else:\n",
    "    print(\"lksdjf\")\n",
    "finally:\n",
    "    print(\"finally\")"
   ]
  },
  {
   "cell_type": "code",
   "execution_count": 34,
   "metadata": {},
   "outputs": [
    {
     "ename": "ZeroDivisionError",
     "evalue": "division by zero",
     "output_type": "error",
     "traceback": [
      "\u001b[1;31m---------------------------------------------------------------------------\u001b[0m",
      "\u001b[1;31mZeroDivisionError\u001b[0m                         Traceback (most recent call last)",
      "\u001b[1;32m<ipython-input-34-fc194fefcd96>\u001b[0m in \u001b[0;36m<module>\u001b[1;34m\u001b[0m\n\u001b[0;32m      3\u001b[0m \u001b[1;31m# 2. if call of function os._exist(0) occurs\u001b[0m\u001b[1;33m\u001b[0m\u001b[1;33m\u001b[0m\u001b[1;33m\u001b[0m\u001b[0m\n\u001b[0;32m      4\u001b[0m \u001b[1;31m#case 1. if the control doesn't enter into the try block:\u001b[0m\u001b[1;33m\u001b[0m\u001b[1;33m\u001b[0m\u001b[1;33m\u001b[0m\u001b[0m\n\u001b[1;32m----> 5\u001b[1;33m \u001b[0mprint\u001b[0m\u001b[1;33m(\u001b[0m\u001b[1;36m10\u001b[0m\u001b[1;33m/\u001b[0m\u001b[1;36m0\u001b[0m\u001b[1;33m)\u001b[0m\u001b[1;33m;\u001b[0m\u001b[1;33m\u001b[0m\u001b[1;33m\u001b[0m\u001b[0m\n\u001b[0m\u001b[0;32m      6\u001b[0m \u001b[1;32mtry\u001b[0m\u001b[1;33m:\u001b[0m\u001b[1;33m\u001b[0m\u001b[1;33m\u001b[0m\u001b[0m\n\u001b[0;32m      7\u001b[0m     \u001b[0mprint\u001b[0m\u001b[1;33m(\u001b[0m\u001b[1;34m\"Try block\"\u001b[0m\u001b[1;33m)\u001b[0m\u001b[1;33m\u001b[0m\u001b[1;33m\u001b[0m\u001b[0m\n",
      "\u001b[1;31mZeroDivisionError\u001b[0m: division by zero"
     ]
    }
   ],
   "source": [
    "# Two case of finally block is not executed\n",
    "# 1. if control doesn't enter into the try block\n",
    "# 2. if call of function os._exist(0) occurs\n",
    "#case 1. if the control doesn't enter into the try block:\n",
    "print(10/0);\n",
    "try:\n",
    "    print(\"Try block\")\n",
    "except:\n",
    "    print(\"except block\")\n",
    "finally:\n",
    "    print(\"Finally block\")\n"
   ]
  },
  {
   "cell_type": "code",
   "execution_count": null,
   "metadata": {},
   "outputs": [],
   "source": [
    "#case 2. when we use os._exit(0)\n",
    "import os\n",
    "try:\n",
    "    print(\"Try block\");\n",
    "    os._exit(0);\n",
    "except:\n",
    "    print(\"Except block is executed\")\n",
    "finally:\n",
    "    print(\"Finally block is not executed\")"
   ]
  },
  {
   "cell_type": "code",
   "execution_count": null,
   "metadata": {},
   "outputs": [],
   "source": []
  }
 ],
 "metadata": {
  "kernelspec": {
   "display_name": "Python 3",
   "language": "python",
   "name": "python3"
  },
  "language_info": {
   "codemirror_mode": {
    "name": "ipython",
    "version": 3
   },
   "file_extension": ".py",
   "mimetype": "text/x-python",
   "name": "python",
   "nbconvert_exporter": "python",
   "pygments_lexer": "ipython3",
   "version": "3.7.2"
  }
 },
 "nbformat": 4,
 "nbformat_minor": 2
}
