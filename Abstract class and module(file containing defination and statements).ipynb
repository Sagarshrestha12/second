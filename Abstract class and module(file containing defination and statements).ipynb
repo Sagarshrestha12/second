{
 "cells": [
  {
   "cell_type": "code",
   "execution_count": 10,
   "metadata": {},
   "outputs": [
    {
     "ename": "TypeError",
     "evalue": "Can't instantiate abstract class Test1 with abstract methods m1",
     "output_type": "error",
     "traceback": [
      "\u001b[1;31m---------------------------------------------------------------------------\u001b[0m",
      "\u001b[1;31mTypeError\u001b[0m                                 Traceback (most recent call last)",
      "\u001b[1;32m<ipython-input-10-5187cd761f3f>\u001b[0m in \u001b[0;36m<module>\u001b[1;34m\u001b[0m\n\u001b[0;32m      9\u001b[0m         \u001b[0mprint\u001b[0m\u001b[1;33m(\u001b[0m\u001b[1;34m\"implementation here\"\u001b[0m\u001b[1;33m)\u001b[0m\u001b[1;33m\u001b[0m\u001b[1;33m\u001b[0m\u001b[0m\n\u001b[0;32m     10\u001b[0m \u001b[1;31m# t=Test(); abstract class object creation are not alloweded\u001b[0m\u001b[1;33m\u001b[0m\u001b[1;33m\u001b[0m\u001b[1;33m\u001b[0m\u001b[0m\n\u001b[1;32m---> 11\u001b[1;33m \u001b[0mt1\u001b[0m\u001b[1;33m=\u001b[0m\u001b[0mTest1\u001b[0m\u001b[1;33m(\u001b[0m\u001b[1;33m)\u001b[0m\u001b[1;33m;\u001b[0m\u001b[1;33m\u001b[0m\u001b[1;33m\u001b[0m\u001b[0m\n\u001b[0m\u001b[0;32m     12\u001b[0m \u001b[0mt1\u001b[0m\u001b[1;33m.\u001b[0m\u001b[0mm2\u001b[0m\u001b[1;33m(\u001b[0m\u001b[1;33m)\u001b[0m\u001b[1;33m;\u001b[0m\u001b[1;33m\u001b[0m\u001b[1;33m\u001b[0m\u001b[0m\n",
      "\u001b[1;31mTypeError\u001b[0m: Can't instantiate abstract class Test1 with abstract methods m1"
     ]
    }
   ],
   "source": [
    "# -->for the  abstract class,we have to import ABC and abstract method\n",
    "from abc import ABC,abstractmethod\n",
    "class Test(ABC):# the object of this Test class can't be made\n",
    "    @abstractmethod# it is madatory for the abstract method\n",
    "    def m1(self):# if @abstractmethod is not written then it is not consider as the abstract method\n",
    "        # else it is consider as the empty funtion \n",
    "        pass# pass should be written in order to represent it is  empty\n",
    "class Test1(Test):# until we override the abract method we can't make object of that child class also.\n",
    "    def m2(self):\n",
    "        print(\"implementation here\")\n",
    "# t=Test(); abstract class object creation are not alloweded\n",
    "t1=Test1();\n",
    "t1.m2();"
   ]
  },
  {
   "cell_type": "code",
   "execution_count": 16,
   "metadata": {},
   "outputs": [
    {
     "name": "stdout",
     "output_type": "stream",
     "text": [
      "Abstract method is overriden\n"
     ]
    }
   ],
   "source": [
    "from abc import ABC\n",
    "class Base(ABC):\n",
    "    @abstractmethod#without the writting @abstractmethod it can't be abstract method \n",
    "    def abss(self):# abstract method\n",
    "        pass;\n",
    "class Derv(Base):\n",
    "    def abss(self):# overriding the abstract class method\n",
    "        print(\"Abstract method is overriden\");\n",
    "x=Derv();\n",
    "x.abss();"
   ]
  },
  {
   "cell_type": "code",
   "execution_count": 28,
   "metadata": {},
   "outputs": [
    {
     "name": "stdout",
     "output_type": "stream",
     "text": [
      "20\n",
      "orange\n"
     ]
    }
   ],
   "source": [
    "import random\n",
    "print(random.randint(1,100))\n",
    "x=[\"Apple\",\"orange\",\"banana\"]\n",
    "print(random.choice(x))"
   ]
  },
  {
   "cell_type": "code",
   "execution_count": 19,
   "metadata": {},
   "outputs": [
    {
     "name": "stdout",
     "output_type": "stream",
     "text": [
      "['_STRUCT_TM_ITEMS', '__doc__', '__loader__', '__name__', '__package__', '__spec__', 'altzone', 'asctime', 'clock', 'ctime', 'daylight', 'get_clock_info', 'gmtime', 'localtime', 'mktime', 'monotonic', 'monotonic_ns', 'perf_counter', 'perf_counter_ns', 'process_time', 'process_time_ns', 'sleep', 'strftime', 'strptime', 'struct_time', 'thread_time', 'thread_time_ns', 'time', 'time_ns', 'timezone', 'tzname']\n"
     ]
    }
   ],
   "source": [
    "import time;\n",
    "print(dir(time))# dir funtion is used to write the all funtion and attribute belong to that module\n",
    "import sys;\n",
    "sys.path.append('C:/Users/sagar/AppData/Local/Programs')\n"
   ]
  },
  {
   "cell_type": "code",
   "execution_count": 20,
   "metadata": {},
   "outputs": [
    {
     "name": "stdout",
     "output_type": "stream",
     "text": [
      "<re.Match object; span=(3, 8), match='ratan'>\n",
      "ratan\n",
      "3\n",
      "8\n",
      "None\n"
     ]
    }
   ],
   "source": [
    "# In python regular expression are available in re module\n",
    "# The most common uses of the regular expression are:\n",
    "# Search,finding,break,replace the part of the string\n",
    "import re\n",
    "result = re.search('ratan', 'hi ratan sir')\n",
    "print(result)\n",
    "print(result.group(0))\n",
    "print(result.start())\n",
    "print(result.end())\n",
    "result = re.search(r'durga', 'hi ratan sir')\n",
    "print(result)"
   ]
  },
  {
   "cell_type": "code",
   "execution_count": 31,
   "metadata": {},
   "outputs": [
    {
     "name": "stdout",
     "output_type": "stream",
     "text": [
      "['r', 't', 'nit']\n",
      "['r', 't', 'nit']\n"
     ]
    }
   ],
   "source": [
    "import re\n",
    "result=re.split('a','ratanit')\n",
    "print(result) #['r', 't', 'nit']\n",
    "x=\"ratanit\";\n",
    "print(x.split('a'))"
   ]
  },
  {
   "cell_type": "code",
   "execution_count": 22,
   "metadata": {},
   "outputs": [
    {
     "name": "stdout",
     "output_type": "stream",
     "text": [
      "ratan world ratan in India\n",
      "durga world durga in India\n"
     ]
    }
   ],
   "source": [
    "import re\n",
    "result=re.sub(r'durga',r'ratan','durga world durga in India')\n",
    "print(result)\n",
    "result=re.sub(r'sunny',r'ratan','durga world durga in India')\n",
    "print(result)"
   ]
  },
  {
   "cell_type": "code",
   "execution_count": 23,
   "metadata": {},
   "outputs": [
    {
     "name": "stdout",
     "output_type": "stream",
     "text": [
      "['Balu', 'Chiru']\n"
     ]
    }
   ],
   "source": [
    "import re\n",
    "nameage=\"Balu age is 40 Chiru age is 65\"\n",
    "age=re.findall(r\"\\d{1,3}\",nameage)\n",
    "names = re.findall(r\"[A-Z][a-z]*\",nameage)\n",
    "print(names)"
   ]
  },
  {
   "cell_type": "code",
   "execution_count": 24,
   "metadata": {},
   "outputs": [
    {
     "name": "stdout",
     "output_type": "stream",
     "text": [
      "['rat', 'mat', 'bat', 'cat']\n",
      "['bat', 'cat']\n",
      "[]\n",
      "['rat', 'mat']\n"
     ]
    }
   ],
   "source": [
    "s = \"rat mat bat cat durga\"\n",
    "x = re.findall(\"[rmbc]at\",s)\n",
    "y = re.findall(\"[a-f]at\",s)\n",
    "z = re.findall(\"[A-Z]at\",s)\n",
    "print(x)\n",
    "print(y)\n",
    "print(z)\n",
    "s = \"rat mat bat cat\"\n",
    "x = re.findall(\"[^a-k]at\",s)\n",
    "print(x)"
   ]
  },
  {
   "cell_type": "code",
   "execution_count": 25,
   "metadata": {},
   "outputs": [
    {
     "name": "stdout",
     "output_type": "stream",
     "text": [
      "['se', 'se']\n"
     ]
    }
   ],
   "source": [
    "# compile funtion in re module(i.e regular expression)\n",
    "# we combine the regular expression pattern into pattern object, which can be used for pattern matching\n",
    "# It helps to search the pattern again without rewriting it\n",
    "import re\n",
    "x= re.compile(\"se\");\n",
    "y=x.findall(\" we are se =e jklds se\")\n",
    "print(y)"
   ]
  },
  {
   "cell_type": "code",
   "execution_count": 26,
   "metadata": {},
   "outputs": [
    {
     "name": "stdout",
     "output_type": "stream",
     "text": [
      "['ratan', 'ratan']\n",
      "['ratan']\n",
      "[]\n"
     ]
    }
   ],
   "source": [
    "import re\n",
    "pattern=re.compile('ratan')\n",
    "result=pattern.findall('hi ratan sir welcome to ratanit')\n",
    "print (result)\n",
    "result2=pattern.findall('ratanit is good')\n",
    "print (result2)\n",
    "result3=pattern.findall('durgasoft is good')\n",
    "print (result3)"
   ]
  },
  {
   "cell_type": "code",
   "execution_count": 40,
   "metadata": {},
   "outputs": [
    {
     "name": "stdout",
     "output_type": "stream",
     "text": [
      "['ratan']\n",
      "('ratan',)\n"
     ]
    }
   ],
   "source": [
    "def disp(x):\n",
    "    if \"ratan\" in x:\n",
    "        return 1\n",
    "    else:\n",
    "        return 0\n",
    "l=[\"ratan\",\"anu\",\"durga\"]\n",
    "l1=list(filter(disp,l))\n",
    "print(l1)\n",
    "t=tuple(filter(disp,l))\n",
    "print(t)"
   ]
  },
  {
   "cell_type": "code",
   "execution_count": null,
   "metadata": {},
   "outputs": [],
   "source": []
  },
  {
   "cell_type": "code",
   "execution_count": null,
   "metadata": {},
   "outputs": [],
   "source": []
  }
 ],
 "metadata": {
  "kernelspec": {
   "display_name": "Python 3",
   "language": "python",
   "name": "python3"
  },
  "language_info": {
   "codemirror_mode": {
    "name": "ipython",
    "version": 3
   },
   "file_extension": ".py",
   "mimetype": "text/x-python",
   "name": "python",
   "nbconvert_exporter": "python",
   "pygments_lexer": "ipython3",
   "version": "3.7.2"
  }
 },
 "nbformat": 4,
 "nbformat_minor": 2
}
