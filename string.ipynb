{
 "cells": [
  {
   "cell_type": "code",
   "execution_count": 26,
   "metadata": {},
   "outputs": [
    {
     "name": "stdout",
     "output_type": "stream",
     "text": [
      "16\n",
      "fox\n",
      "16\n",
      "fox\n",
      "-1\n",
      "something went wrong\n",
      "False\n",
      "True\n",
      "True\n",
      "False\n",
      "the quick brown fox jumped over the fox lazy buffalo\n"
     ]
    }
   ],
   "source": [
    "# finding and replacing string using find()/rfind(),index()/rindex() and replace()\n",
    "x=\"the quick brown fox jumped over the fox lazy dog\";\n",
    "print(x.find('fox'));\n",
    "print(x[16:19])\n",
    "print(x.index('fox'))\n",
    "print(x[16:19])\n",
    "# both index() and find() have the similar works only diffrence is that find() return -1 if it doesnot find the string \n",
    "# passed to find() funtion whereas the index() raises the ValueError if it doesn't find the string passed to index() \n",
    "# funtion in the given string.\n",
    "print(x.find(\"ljfasjdfl\"))\n",
    "try:\n",
    "    print(x.index(\"foxsdf\"))\n",
    "except ValueError:\n",
    "    print(\"something went wrong\")\n",
    "else:\n",
    "    print(\"your string has found\")\n",
    "# Special case of checking for the substring at the beginning and end of the string,python provides the startswith() and\n",
    "# endswith() funtion and these function returns the boolean value.\n",
    "print(x.startswith(\"lkajsdlkj\"))\n",
    "print(x.startswith(\"the\"))\n",
    "# Similarly it is case with endswith() funtion\n",
    "print(x.endswith(\"dog\"))\n",
    "print(x.endswith(\"kjd\"))\n",
    "# string contains funtion called replace() which is used to replace the substring in given string\n",
    "print(x.replace(\"dog\",\"buffalo\"))"
   ]
  },
  {
   "cell_type": "code",
   "execution_count": null,
   "metadata": {},
   "outputs": [],
   "source": []
  }
 ],
 "metadata": {
  "kernelspec": {
   "display_name": "Python 3",
   "language": "python",
   "name": "python3"
  },
  "language_info": {
   "codemirror_mode": {
    "name": "ipython",
    "version": 3
   },
   "file_extension": ".py",
   "mimetype": "text/x-python",
   "name": "python",
   "nbconvert_exporter": "python",
   "pygments_lexer": "ipython3",
   "version": "3.7.2"
  }
 },
 "nbformat": 4,
 "nbformat_minor": 2
}
