{
 "cells": [
  {
   "cell_type": "code",
   "execution_count": 13,
   "metadata": {},
   "outputs": [
    {
     "name": "stdout",
     "output_type": "stream",
     "text": [
      "30\n",
      "9\n",
      "30\n",
      "30\n",
      "600\n"
     ]
    }
   ],
   "source": [
    "#creating the class\n",
    "# in pyhton superclass of the any class is object,new-style class\n",
    "#syntax for creating the class\n",
    "#class myclass:/ class myclass(object):--inherir from object,new style class/class myclass(): are for creating the class\n",
    "#creating the object of the class\n",
    "#self arguments represents the method is belong to the particular class\n",
    "# self is keyword that is used to acess the member of object\n",
    "# To declare the class without the funtion use pass statement:\n",
    "# pass is used to create the empty class ,empty for loop:\n",
    "class myem:\n",
    "    pass\n",
    "class ron:\n",
    "    a,b=10,20;\n",
    "    def sum(self,a,b):# self represents that the sum() belongs to class ron and a, b are local variable of sum() funtion\n",
    "        print(self.a+self.b)# self is used to access the member of the object\n",
    "        print(a+b)\n",
    "# creating the object:\n",
    "x=ron();# example of named object\n",
    "x.sum(4,5);\n",
    "print(x.a+x.b)\n",
    "# name_less object\n",
    "ron().sum(200,400)\n"
   ]
  },
  {
   "cell_type": "code",
   "execution_count": 1,
   "metadata": {},
   "outputs": [
    {
     "name": "stdout",
     "output_type": "stream",
     "text": [
      "a and reprent to the same memory address\n",
      "2045991563216\n",
      "2045991563216\n",
      "2045991562488\n",
      "Amazing world\n",
      "Amazing world\n",
      "None\n"
     ]
    }
   ],
   "source": [
    "#objec id: id() is used to return the identity of the object\n",
    "# is and ' is not' keyword is used to compare the identity of the object\n",
    "a=10;\n",
    "b=10\n",
    "if a is b:\n",
    "    print(\"a and reprent to the same memory address\")\n",
    "class muc:\n",
    "    def show(self):# self keyword is used to represent to the particular class\n",
    "        print(\"Amazing world\")\n",
    "c1=muc();\n",
    "c2=c1;\n",
    "c3=muc();\n",
    "print(id(c1))\n",
    "print(id(c2))\n",
    "print(id(c3))\n",
    "c1.show()\n",
    "print(c1.show())"
   ]
  },
  {
   "cell_type": "code",
   "execution_count": 3,
   "metadata": {},
   "outputs": [
    {
     "name": "stdout",
     "output_type": "stream",
     "text": [
      "Amazing world\n",
      "None\n"
     ]
    }
   ],
   "source": [
    "print(c1.show())"
   ]
  },
  {
   "cell_type": "code",
   "execution_count": 15,
   "metadata": {
    "scrolled": true
   },
   "outputs": [
    {
     "ename": "SyntaxError",
     "evalue": "invalid syntax (<ipython-input-15-bb214940b998>, line 30)",
     "output_type": "error",
     "traceback": [
      "\u001b[1;36m  File \u001b[1;32m\"<ipython-input-15-bb214940b998>\"\u001b[1;36m, line \u001b[1;32m30\u001b[0m\n\u001b[1;33m    global x=29;\u001b[0m\n\u001b[1;37m            ^\u001b[0m\n\u001b[1;31mSyntaxError\u001b[0m\u001b[1;31m:\u001b[0m invalid syntax\n"
     ]
    }
   ],
   "source": [
    "#pyhton constructor: __init__() funtion is used as the construntor in python\n",
    "#constructor used to write the logic and it is executed during the object creation\n",
    "# They are specialy used to initialize the values to variables during the object creation\n",
    "# constructor varibles are local variables and to make it global variables use the self keyword\n",
    "class cons:\n",
    "    a,b=10,20;\n",
    "    def __init__(self,a,b):\n",
    "        print(self.a+self.b);\n",
    "        print(a+b);\n",
    "    def __init__(self,a,b,c):\n",
    "        print(\"This is the constructor having the 3 arguments\")\n",
    "    def x(self):\n",
    "        print(\"jgj\")\n",
    "#creating the object and constructor(i.e__init() is called during the creation of the object)\n",
    "x=cons(200,400,222);\n",
    "#__init()__ is executed when we create an object\n",
    "# To make local variable a global variable we use the self keyword in constructor\n",
    "class myclass:\n",
    "    \n",
    "    def __init__(self,name,roll):# using self keyword in constructor,we make local variable name & roll as global variable \n",
    "        self.name=name;self.roll=roll;#self is used to access the member variable of the object \n",
    "    def show(self):\n",
    "        print(\"The name of the student is\",self.name,\" and his roll no. is\",self.roll);\n",
    "    def __str__(self):\n",
    "        return\"__str__() is executed when we print the refrence variable\";\n",
    "    def __del__(self):\n",
    "        print(\"Destuctor(i.e __del__() function) is called when object is destroyed\")\n",
    "    def ret():\n",
    "        print(\"nothig goes worng\");\n",
    "        \n",
    "        \n",
    "\n",
    "name=input(\"Enter the name of student\")\n",
    "roll=int(input(\"Enter the roll no. of the student\"));# int is used to make the conform that input is of type int otherwise\n",
    "# it will generate invalid literal error or to convert to int type also\n",
    "x=myclass(name,roll);\n",
    "x.show();# __str__() is executed when we print the reference variable and it returns always string onl\n",
    "print(x)#__init__() is executed when we create the object \n",
    "\n",
    "# Destructor in python\n",
    "# To destroy the object use del and when we destroy object __del__() funtion is executed.\n",
    "del x;\n",
    "\n",
    "y=myclass(name,roll)\n",
    "# class attribute\n",
    "#hasattr():is used to check attribute is present in class or not.If attribute is present in class it returns true otherwise\n",
    "#false. It has parameter object name and varible name\n",
    "print(hasattr(y,\"roll\"))\n",
    "print(hasattr(y,\"sex\"))"
   ]
  },
  {
   "cell_type": "code",
   "execution_count": 14,
   "metadata": {},
   "outputs": [
    {
     "name": "stdout",
     "output_type": "stream",
     "text": [
      "nothig goes worng\n"
     ]
    }
   ],
   "source": [
    "myclass.ret();\n"
   ]
  },
  {
   "cell_type": "code",
   "execution_count": 5,
   "metadata": {},
   "outputs": [
    {
     "name": "stdout",
     "output_type": "stream",
     "text": [
      "B class cons\n"
     ]
    }
   ],
   "source": [
    "# Inheritance:\n",
    "# in python all member vaariable and methods of class are public by default \n",
    "# constructor overloading in python:\n",
    "class A:\n",
    "    def __init__(self,name):\n",
    "        self.name=name;\n",
    "        print(\"A class cons\");\n",
    "class B(A):# it means A class is superclass of B\n",
    "    def __init__(self,name):\n",
    "        print(\"B class cons\");\n",
    "        self.name=name;\n",
    "    def show():\n",
    "        print(\"The name of the person is \",self.name)\n",
    "x=B(\"sagar\");\n"
   ]
  },
  {
   "cell_type": "code",
   "execution_count": 6,
   "metadata": {},
   "outputs": [
    {
     "name": "stdout",
     "output_type": "stream",
     "text": [
      "B class cons\n",
      "ratan\n"
     ]
    }
   ],
   "source": [
    "#in below example B class contains 1 args constructor so class B constructor is execute\n",
    "class A:\n",
    "    def __init__(self,name):\n",
    "        print(\"A class cons\")\n",
    "        self.name=name\n",
    "class B(A):\n",
    "    def __init__(self,name):\n",
    "        print(\"B class cons\")\n",
    "        self.name=name\n",
    "    def disp(self):\n",
    "        print(self.name)\n",
    "\n",
    "b = B(\"ratan\")\n",
    "b.disp()\n"
   ]
  },
  {
   "cell_type": "code",
   "execution_count": 9,
   "metadata": {},
   "outputs": [
    {
     "name": "stdout",
     "output_type": "stream",
     "text": [
      "A class cons\n",
      "kaji\n",
      "30\n",
      "child m1()\n",
      "parent m1()\n"
     ]
    }
   ],
   "source": [
    "#In below example 1-arg constructor not present in B class so parent class constructor will be executed\n",
    "class A:\n",
    "    a,b=10,20;\n",
    "    def __init__(self,name):\n",
    "        print(\"A class cons\")\n",
    "        self.name=name\n",
    "    def m1(self):\n",
    "        print(\"parent m1()\")\n",
    "class B(A):\n",
    "    def disp(self):\n",
    "        print(self.name);\n",
    "        print(self.a+self.b)\n",
    "    def m1(self):\n",
    "        print(\"child m1()\")\n",
    "        super().m1();#A.m1(self) call the parent class method too\n",
    "b=B(\"kaji\")\n",
    "b.disp()\n",
    "b.m1()"
   ]
  },
  {
   "cell_type": "code",
   "execution_count": 17,
   "metadata": {},
   "outputs": [
    {
     "name": "stdout",
     "output_type": "stream",
     "text": [
      "m of B is clalled\n",
      "m of C called\n"
     ]
    }
   ],
   "source": [
    "#funtion overloading\n",
    "class A:\n",
    "    def m(self):\n",
    "        pass\n",
    "class B(A):\n",
    "    def m(self):\n",
    "        print(\"m of B is clalled\")\n",
    "        super().m()\n",
    "class C(A):\n",
    "    def m(self):\n",
    "        print(\"m of C called\")       \n",
    "class D(B,C):\n",
    "    pass;\n",
    "D().m();\n",
    "#"
   ]
  },
  {
   "cell_type": "code",
   "execution_count": 22,
   "metadata": {},
   "outputs": [
    {
     "name": "stdout",
     "output_type": "stream",
     "text": [
      "m of B is clallSed\n",
      "m of C called\n"
     ]
    }
   ],
   "source": [
    "#importance of the self can be seen from the following program \n",
    "# if self is removed it shows the type error\n",
    "class A:\n",
    "    def m(self):\n",
    "        print(\"the most \");\n",
    "class B(A):\n",
    "    def m(self):\n",
    "        print(\"m of B is clallSed\")\n",
    "        super().m()\n",
    "class C(A):\n",
    "    def m(self):\n",
    "        print(\"m of C called\")       \n",
    "class D(B,C):\n",
    "    pass;\n",
    "D().m();\n"
   ]
  },
  {
   "cell_type": "code",
   "execution_count": 25,
   "metadata": {},
   "outputs": [
    {
     "name": "stdout",
     "output_type": "stream",
     "text": [
      "ratan addanki\n"
     ]
    },
    {
     "ename": "TypeError",
     "evalue": "unsupported operand type(s) for +: 'Person' and 'str'",
     "output_type": "error",
     "traceback": [
      "\u001b[1;31m---------------------------------------------------------------------------\u001b[0m",
      "\u001b[1;31mTypeError\u001b[0m                                 Traceback (most recent call last)",
      "\u001b[1;32m<ipython-input-25-1900749fe94a>\u001b[0m in \u001b[0;36m<module>\u001b[1;34m\u001b[0m\n\u001b[0;32m     15\u001b[0m \u001b[0my\u001b[0m \u001b[1;33m=\u001b[0m \u001b[0mEmployee\u001b[0m\u001b[1;33m(\u001b[0m \u001b[1;34m\"111\"\u001b[0m\u001b[1;33m)\u001b[0m\u001b[1;33m\u001b[0m\u001b[1;33m\u001b[0m\u001b[0m\n\u001b[0;32m     16\u001b[0m \u001b[0mprint\u001b[0m\u001b[1;33m(\u001b[0m\u001b[0mx\u001b[0m\u001b[1;33m.\u001b[0m\u001b[0mName\u001b[0m\u001b[1;33m(\u001b[0m\u001b[1;33m)\u001b[0m\u001b[1;33m)\u001b[0m\u001b[1;33m\u001b[0m\u001b[1;33m\u001b[0m\u001b[0m\n\u001b[1;32m---> 17\u001b[1;33m \u001b[0mprint\u001b[0m\u001b[1;33m(\u001b[0m\u001b[0my\u001b[0m\u001b[1;33m.\u001b[0m\u001b[0mGetEmployee\u001b[0m\u001b[1;33m(\u001b[0m\u001b[1;33m)\u001b[0m\u001b[1;33m)\u001b[0m\u001b[1;33m\u001b[0m\u001b[1;33m\u001b[0m\u001b[0m\n\u001b[0m",
      "\u001b[1;32m<ipython-input-25-1900749fe94a>\u001b[0m in \u001b[0;36mGetEmployee\u001b[1;34m(self)\u001b[0m\n\u001b[0;32m     11\u001b[0m         \u001b[0mself\u001b[0m\u001b[1;33m.\u001b[0m\u001b[0mstaffnumber\u001b[0m \u001b[1;33m=\u001b[0m \u001b[0mstaffnum\u001b[0m\u001b[1;33m\u001b[0m\u001b[1;33m\u001b[0m\u001b[0m\n\u001b[0;32m     12\u001b[0m     \u001b[1;32mdef\u001b[0m \u001b[0mGetEmployee\u001b[0m\u001b[1;33m(\u001b[0m\u001b[0mself\u001b[0m\u001b[1;33m)\u001b[0m\u001b[1;33m:\u001b[0m\u001b[1;33m\u001b[0m\u001b[1;33m\u001b[0m\u001b[0m\n\u001b[1;32m---> 13\u001b[1;33m         \u001b[1;32mreturn\u001b[0m \u001b[0mself\u001b[0m\u001b[1;33m.\u001b[0m\u001b[0mName\u001b[0m\u001b[1;33m(\u001b[0m\u001b[1;33m)\u001b[0m \u001b[1;33m+\u001b[0m \u001b[1;34m\", \"\u001b[0m \u001b[1;33m+\u001b[0m \u001b[0mself\u001b[0m\u001b[1;33m.\u001b[0m\u001b[0mstaffnumber\u001b[0m\u001b[1;33m\u001b[0m\u001b[1;33m\u001b[0m\u001b[0m\n\u001b[0m\u001b[0;32m     14\u001b[0m \u001b[0mx\u001b[0m \u001b[1;33m=\u001b[0m \u001b[0mPerson\u001b[0m\u001b[1;33m(\u001b[0m\u001b[1;34m\"ratan\"\u001b[0m\u001b[1;33m,\u001b[0m \u001b[1;34m\"addanki\"\u001b[0m\u001b[1;33m)\u001b[0m\u001b[1;33m\u001b[0m\u001b[1;33m\u001b[0m\u001b[0m\n\u001b[0;32m     15\u001b[0m \u001b[0my\u001b[0m \u001b[1;33m=\u001b[0m \u001b[0mEmployee\u001b[0m\u001b[1;33m(\u001b[0m \u001b[1;34m\"111\"\u001b[0m\u001b[1;33m)\u001b[0m\u001b[1;33m\u001b[0m\u001b[1;33m\u001b[0m\u001b[0m\n",
      "\u001b[1;32m<ipython-input-25-1900749fe94a>\u001b[0m in \u001b[0;36mName\u001b[1;34m(self)\u001b[0m\n\u001b[0;32m      5\u001b[0m         \u001b[0mself\u001b[0m\u001b[1;33m.\u001b[0m\u001b[0mlastname\u001b[0m \u001b[1;33m=\u001b[0m \u001b[0mlast\u001b[0m\u001b[1;33m\u001b[0m\u001b[1;33m\u001b[0m\u001b[0m\n\u001b[0;32m      6\u001b[0m     \u001b[1;32mdef\u001b[0m \u001b[0mName\u001b[0m\u001b[1;33m(\u001b[0m\u001b[0mself\u001b[0m\u001b[1;33m)\u001b[0m\u001b[1;33m:\u001b[0m\u001b[1;33m\u001b[0m\u001b[1;33m\u001b[0m\u001b[0m\n\u001b[1;32m----> 7\u001b[1;33m         \u001b[1;32mreturn\u001b[0m \u001b[0mself\u001b[0m\u001b[1;33m.\u001b[0m\u001b[0mfirstname\u001b[0m \u001b[1;33m+\u001b[0m \u001b[1;34m\" \"\u001b[0m \u001b[1;33m+\u001b[0m \u001b[0mself\u001b[0m\u001b[1;33m.\u001b[0m\u001b[0mlastname\u001b[0m\u001b[1;33m\u001b[0m\u001b[1;33m\u001b[0m\u001b[0m\n\u001b[0m\u001b[0;32m      8\u001b[0m \u001b[1;32mclass\u001b[0m \u001b[0mEmployee\u001b[0m\u001b[1;33m(\u001b[0m\u001b[0mPerson\u001b[0m\u001b[1;33m)\u001b[0m\u001b[1;33m:\u001b[0m\u001b[1;33m\u001b[0m\u001b[1;33m\u001b[0m\u001b[0m\n\u001b[0;32m      9\u001b[0m     \u001b[1;32mdef\u001b[0m \u001b[0m__init__\u001b[0m\u001b[1;33m(\u001b[0m\u001b[0mself\u001b[0m\u001b[1;33m,\u001b[0m \u001b[0mstaffnum\u001b[0m\u001b[1;33m)\u001b[0m\u001b[1;33m:\u001b[0m\u001b[1;33m\u001b[0m\u001b[1;33m\u001b[0m\u001b[0m\n",
      "\u001b[1;31mTypeError\u001b[0m: unsupported operand type(s) for +: 'Person' and 'str'"
     ]
    }
   ],
   "source": [
    "class Person(object):\n",
    "    def __init__(self, first, last):\n",
    "        self.firstname = first\n",
    "        self.lastname = last\n",
    "    def Name(self):\n",
    "        return self.firstname + \" \" + self.lastname\n",
    "class Employee(Person):\n",
    "    def __init__(self, first, last, staffnum):\n",
    "        super().__init__(first,last)\n",
    "        self.staffnumber = staffnum\n",
    "    def GetEmployee(self):\n",
    "        return self.Name() + \", \" + self.staffnumber\n",
    "x = Person(\"ratan\", \"addanki\")\n",
    "y = Employee(\"ratan\", \"addankikjhfd\", \"111\")\n",
    "print(x.Name())\n",
    "print(y.GetEmployee())"
   ]
  },
  {
   "cell_type": "code",
   "execution_count": 28,
   "metadata": {},
   "outputs": [
    {
     "name": "stdout",
     "output_type": "stream",
     "text": [
      "Dog eating...\n"
     ]
    }
   ],
   "source": [
    "#funtion overriding\n",
    "class Animal:\n",
    "    def eat(self):#__eat() function is funtion which is member of the private member of the Animal which can't be\n",
    "#assigned from the outside the class\n",
    "        print(\"Animal Eating...\")\n",
    "class Dog(Animal):\n",
    "    def eat(self):# by default every member of the class is public member of that class.\n",
    "        print('Dog eating...')# _name is protected member of that class\n",
    "d = Dog()\n",
    "d.eat()\n",
    "\n",
    "#public,protected,private member\n"
   ]
  },
  {
   "cell_type": "code",
   "execution_count": null,
   "metadata": {},
   "outputs": [],
   "source": [
    "# two kinds of error: they are : 1. syntax error 2. exception are errors that occurs at runtime"
   ]
  }
 ],
 "metadata": {
  "kernelspec": {
   "display_name": "Python 3",
   "language": "python",
   "name": "python3"
  },
  "language_info": {
   "codemirror_mode": {
    "name": "ipython",
    "version": 3
   },
   "file_extension": ".py",
   "mimetype": "text/x-python",
   "name": "python",
   "nbconvert_exporter": "python",
   "pygments_lexer": "ipython3",
   "version": "3.7.2"
  }
 },
 "nbformat": 4,
 "nbformat_minor": 2
}
