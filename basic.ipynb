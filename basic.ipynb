{
 "cells": [
  {
   "cell_type": "code",
   "execution_count": 8,
   "metadata": {},
   "outputs": [
    {
     "name": "stdout",
     "output_type": "stream",
     "text": [
      "[4, 9, 16, 25]\n",
      "(4, 3) (4, 4) (4, 5) (4, 6) (9, 3) (9, 4) (9, 5) (9, 6) (16, 3) (16, 4) (16, 5) (16, 6) (25, 3) (25, 4) (25, 5) (25, 6)\n",
      "1 2 4 5 7 8 10 11 13 14 16 17 19\n",
      "2\n"
     ]
    }
   ],
   "source": [
    "# python interperter consists of the \n",
    "#1-> Compiler, bytecode and virtual machine \n",
    "#Compiler converts the source code into bytecode \n",
    "# Bytecode is not executable by machine \n",
    "# Bytecode is executable by the virtual machine   \n",
    "# Bytecode is lowerlevel , platform independent,efficient and\n",
    "# intermediate representation of your source code \n",
    "# Virtual machine can read bytecode line by line and \n",
    "# execute the byte code and produce ouput in that process the \n",
    "# virtual machine uses the library module which consist of \n",
    "# What are pyc files.\n",
    "# pyc are the byte code representation of the python code\n",
    "# It helps to increase teh speed of the machine\n",
    "\n",
    "#list Comprehensions(it helps to decrese the length of the code for for loop)\n",
    "#syntax: [exp for var in iterable] An object is called iterable if we can get an iterator object from it. Most of built-in\n",
    "#containers in Python like: list, tuple, string etc. are iterables. we can get iterator object from the iter() funtion.\n",
    "l=[2,3,4,5]\n",
    "y=[x**2 for x in l]# it will return list so it is called list comprehensions\n",
    "print(y);\n",
    "#multiple iterator\n",
    "k=[(i**2,j+1) for i in l for j in l]\n",
    "print(*k);\n",
    "#same code below\n",
    "m=[]\n",
    "#conditionals on iterator\n",
    "m=[var for var in range(20) if var%3>0]# creating the list from 0 to 20 execpt those which is divisible by 3\n",
    "print(*m)   # * means expand this as sequence and ** means expand this as dictionary\n",
    "o={\"l\":2,\"k\":4}\n",
    "print(o[\"l\"])\n",
    "x=2;\n",
    "y=[4,3,21];\n",
    "if x in y:\n",
    "    print(\"everything is write\");"
   ]
  },
  {
   "cell_type": "code",
   "execution_count": 11,
   "metadata": {},
   "outputs": [
    {
     "name": "stdout",
     "output_type": "stream",
     "text": [
      "(4, 3) (4, 4) (4, 5) (4, 6) (9, 3) (9, 4) (9, 5) (9, 6) (16, 3) (16, 4) (16, 5) (16, 6) (25, 3) (25, 4) (25, 5) (25, 6)\n"
     ]
    }
   ],
   "source": [
    "k=[(i**2,j+1) for i in l for j in l]\n",
    "print(*k)"
   ]
  },
  {
   "cell_type": "code",
   "execution_count": 3,
   "metadata": {},
   "outputs": [
    {
     "name": "stdout",
     "output_type": "stream",
     "text": [
      "enter some data1\n",
      "1\n"
     ]
    }
   ],
   "source": [
    "#range built-in return a sequence-type object instead of a list.\n",
    "type(range(2));\n",
    "# conditional on values\n",
    "var=int(input(\"enter some data\"));\n",
    "var if var>10 else var;\n",
    "print(var);"
   ]
  },
  {
   "cell_type": "code",
   "execution_count": 4,
   "metadata": {},
   "outputs": [
    {
     "data": {
      "text/plain": [
       "range"
      ]
     },
     "execution_count": 4,
     "metadata": {},
     "output_type": "execute_result"
    }
   ],
   "source": [
    "type(range(2))"
   ]
  },
  {
   "cell_type": "code",
   "execution_count": 9,
   "metadata": {},
   "outputs": [
    {
     "name": "stdout",
     "output_type": "stream",
     "text": [
      "['this is ', 'hwat ', 'lkasjdf']\n",
      "\n",
      " ['this', 'is', 'hwat', 'lkasjdf']\n",
      "this--is--hwat--lkasjdf\n"
     ]
    }
   ],
   "source": [
    "# split()  funtion return the list whereas partition funtion returns the tuple \n",
    "# split() split the string according to the whitespace by default if we want to split accordin to word 'r' then we have to \n",
    "# use string.split('r') statement\n",
    "#splitlines is used to split the sentence according to line which is declared using\"\"\" kjkhfdsk\"\"\"\n",
    "d=\"\"\"this is \n",
    "hwat \n",
    "lkasjdf\n",
    "\"\"\"\n",
    "e=d.splitlines();\n",
    "f=d.split();\n",
    "print(e)\n",
    "print(\"\\n\",f)\n",
    "#join() return string built from the split-point and iterable\n",
    "g=\"--\".join(d)\n",
    "g=\"--\".join(f)\n",
    "print(g)"
   ]
  },
  {
   "cell_type": "code",
   "execution_count": 10,
   "metadata": {},
   "outputs": [
    {
     "data": {
      "text/plain": [
       "'pi = 3.146'"
      ]
     },
     "execution_count": 10,
     "metadata": {},
     "output_type": "execute_result"
    }
   ],
   "source": [
    "pi='3.124'\n",
    "\"The value of pi is {}\".format(pi)\n",
    "\"First letter: {0}. Last letter: {1}.\".format('A', 'Z')\n",
    "\"\"\"\"First: {first}. Last: {last}.\"\"\".format(last='Z', first='A')\n",
    "pi=3.1455\n",
    "\"pi = {0:.3f}\".format(pi)"
   ]
  },
  {
   "cell_type": "code",
   "execution_count": 12,
   "metadata": {},
   "outputs": [
    {
     "data": {
      "text/plain": [
       "'The value of pi is 3.1455'"
      ]
     },
     "execution_count": 12,
     "metadata": {},
     "output_type": "execute_result"
    }
   ],
   "source": [
    "\"First letter: {0}. Last letter: {1}.\".format('A', 'Z')\n",
    "\"The value of pi is {}\".format(pi)"
   ]
  },
  {
   "cell_type": "code",
   "execution_count": 4,
   "metadata": {},
   "outputs": [
    {
     "name": "stdout",
     "output_type": "stream",
     "text": [
      "biru rijal\n",
      "ralrk kjsdf 32\n"
     ]
    }
   ],
   "source": [
    "# overriddden the __str__() from the personn in employee\n",
    "class Person:\n",
    "    def __init__(self,first,last):\n",
    "        self.first=first;\n",
    "        self.last=last;\n",
    "    def __str__(self):\n",
    "        return self.first+\" \"+self.last;\n",
    "class employee(Person):\n",
    "    def __init__(self,first,last,id1):\n",
    "        super().__init__(first,last)\n",
    "        self.id1=id1;\n",
    "    def __str__(self):\n",
    "        return super().__str__()+\" \"+self.id1;\n",
    "x=Person(\"biru\",\"rijal\")\n",
    "y=employee(\"ralrk\",\"kjsdf\",\"32\")\n",
    "\n",
    "print(x)\n",
    "print(y)\n",
    "        \n",
    "        "
   ]
  },
  {
   "cell_type": "code",
   "execution_count": 15,
   "metadata": {},
   "outputs": [
    {
     "name": "stdout",
     "output_type": "stream",
     "text": [
      "24\n",
      "Not Weird\n"
     ]
    }
   ],
   "source": [
    "N = int(input())\n",
    "if N%2!=0:\n",
    "    print(\"Weird\")\n",
    "else:\n",
    "    if(N>2 and N<5):\n",
    "        print(\"Not Weird\");\n",
    "    if(N>6 and N<20):\n",
    "        print(\"Weird\");\n",
    "    if(N>20):\n",
    "        print(\"Not Weird\");\n",
    "        \n"
   ]
  },
  {
   "cell_type": "code",
   "execution_count": 17,
   "metadata": {},
   "outputs": [
    {
     "name": "stdout",
     "output_type": "stream",
     "text": [
      "my roll no is 10\n"
     ]
    }
   ],
   "source": [
    "x=10;\n",
    "y=\"my roll no is \";\n",
    "print(y+\"{}\".format(x));"
   ]
  },
  {
   "cell_type": "code",
   "execution_count": null,
   "metadata": {},
   "outputs": [],
   "source": []
  }
 ],
 "metadata": {
  "kernelspec": {
   "display_name": "Python 3",
   "language": "python",
   "name": "python3"
  },
  "language_info": {
   "codemirror_mode": {
    "name": "ipython",
    "version": 3
   },
   "file_extension": ".py",
   "mimetype": "text/x-python",
   "name": "python",
   "nbconvert_exporter": "python",
   "pygments_lexer": "ipython3",
   "version": "3.7.2"
  }
 },
 "nbformat": 4,
 "nbformat_minor": 2
}
