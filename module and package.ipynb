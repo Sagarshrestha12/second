{
 "cells": [
  {
   "cell_type": "code",
   "execution_count": 25,
   "metadata": {},
   "outputs": [
    {
     "name": "stdout",
     "output_type": "stream",
     "text": [
      "This is the result of the strip()\n",
      "    This is the result of the strip()       \n",
      "435\n",
      "    This is the result of the strip()\n",
      "This is the result of the strip()        This is the result of lstrip()\n"
     ]
    }
   ],
   "source": [
    "str1=\"    This is the result of the strip()       \"\n",
    "x=str1.strip();\n",
    "print(x)\n",
    "y=str1.strip(\"the\")\n",
    "print(y)\n",
    "num=\"000000000435\"\n",
    "l=num.strip('0')\n",
    "print(l)\n",
    "# To remove the left side whitespace\n",
    "z=str1.rstrip()\n",
    "print(z)\n",
    "z1=str1.lstrip()\n",
    "print(z1,\"This is the result of lstrip()\")\n"
   ]
  },
  {
   "cell_type": "code",
   "execution_count": 21,
   "metadata": {},
   "outputs": [
    {
     "name": "stdout",
     "output_type": "stream",
     "text": [
      "-1.0\n",
      "-1.0\n",
      "-1.0\n"
     ]
    }
   ],
   "source": [
    "# explicit import of the modules\n",
    "#importing the math modules\n",
    "import math\n",
    "x=math.cos(math.pi)# computing the cosine of pi(180 degree)\n",
    "print(x)# here we have use the full name using the dot operator\n",
    "# To create the shorter alias for namespace we use statement import.....as.....\n",
    "import numpy as np\n",
    "y=np.cos(np.pi)\n",
    "print(y)\n",
    "#explicit import of the module content(i.e only the few particular items from module),this can be done with from...import..\n",
    "from math import pi,cos# name of the constant and funtion\n",
    "z=cos(pi);\n",
    "print(z)\n"
   ]
  },
  {
   "cell_type": "code",
   "execution_count": 39,
   "metadata": {},
   "outputs": [
    {
     "name": "stdout",
     "output_type": "stream",
     "text": [
      "            my name is sagar             gjhk\n",
      "my name is sagar                         This is the effect of ljust()\n",
      "                        my name is sagar\n",
      "0000000435\n",
      "0000000435\n"
     ]
    }
   ],
   "source": [
    "nm=\"my name is sagar\"\n",
    "a=nm.center(40)\n",
    "print(a,\"gjhk\")\n",
    "# code for left allignment is done by using the ljust() funtion\n",
    "b=nm.ljust(40)\n",
    "print(b,\"This is the effect of ljust()\")\n",
    "# code for right allignment is done by using the rjust() funtion \n",
    "c=nm.rjust(40)\n",
    "print(c)\n",
    "#use of the rjust()\n",
    "d='435'.rjust(10,'0')\n",
    "print(d)\n",
    "# Python also provides zfill(), which is a special method to right-pad a string with zeros:\n",
    "e='435'.zfill(10);\n",
    "print(e)"
   ]
  },
  {
   "cell_type": "code",
   "execution_count": null,
   "metadata": {},
   "outputs": [],
   "source": []
  },
  {
   "cell_type": "code",
   "execution_count": null,
   "metadata": {},
   "outputs": [],
   "source": []
  }
 ],
 "metadata": {
  "kernelspec": {
   "display_name": "Python 3",
   "language": "python",
   "name": "python3"
  },
  "language_info": {
   "codemirror_mode": {
    "name": "ipython",
    "version": 3
   },
   "file_extension": ".py",
   "mimetype": "text/x-python",
   "name": "python",
   "nbconvert_exporter": "python",
   "pygments_lexer": "ipython3",
   "version": "3.7.2"
  }
 },
 "nbformat": 4,
 "nbformat_minor": 2
}
