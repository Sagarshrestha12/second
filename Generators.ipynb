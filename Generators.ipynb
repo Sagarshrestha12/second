{
 "cells": [
  {
   "cell_type": "code",
   "execution_count": 11,
   "metadata": {},
   "outputs": [
    {
     "name": "stdout",
     "output_type": "stream",
     "text": [
      "[1, -2, -4, 5, 7, -8, -10, 11, 13, -14, -16, 17, 19]\n",
      "[-16, -14, -10, -8, -4, -2, 1, 5, 7, 11, 13, 17, 19]\n"
     ]
    }
   ],
   "source": [
    "#In python 0 represents false and other number represents True value of the bolean type\n",
    "x=[val if val%2 else -val for val in range(20) if val%3]\n",
    "print(x)\n",
    "x.sort()\n",
    "print(x)"
   ]
  },
  {
   "cell_type": "code",
   "execution_count": 23,
   "metadata": {},
   "outputs": [
    {
     "name": "stdout",
     "output_type": "stream",
     "text": [
      "{1, 2, 4, 5, 7, 8, 10, 11, 13, 14, 16, 17, 19} \n",
      "The type of the sequence is  <class 'set'>\n",
      "{0: 0, 1: 1, 2: 4, 3: 9, 4: 16, 5: 25, 6: 36, 7: 49, 8: 64, 9: 81, 10: 100, 11: 121, 12: 144, 13: 169, 14: 196, 15: 225, 16: 256, 17: 289, 18: 324, 19: 361}\n",
      "<class 'dict'>\n"
     ]
    }
   ],
   "source": [
    "#there is not only list comprehension,there is set,dictinary comprehension\n",
    "x={val for val in range(20) if val%3}# example of the set comprehensions\n",
    "print(x,\"\\nThe type of the sequence is \",type(x))\n",
    "# example of the dictionary comprehension:\n",
    "x={val:val**2 for val in range(20)}\n",
    "print(x)\n",
    "print(type(x))\n",
    "#if you use the parentheses rather than the the square brackets then, you will get the what's called generator expression\n"
   ]
  },
  {
   "cell_type": "code",
   "execution_count": 4,
   "metadata": {},
   "outputs": [
    {
     "name": "stdout",
     "output_type": "stream",
     "text": [
      "0--1--4--9--16--25--36--49--64--81--100--121--144--169--196--225--256--289--324--361--<generator object <genexpr> at 0x0000021849652750>\n"
     ]
    }
   ],
   "source": [
    "# python generator including generator expression and generator functions\n",
    "# difference between the list comprehensions and generator expressions which are sometimes confusing\n",
    "# list comprehensions uses the square brackets while generators expression uses the parentheses\n",
    "# Generator expression\n",
    "x=( val**2 for val in range(20))# printing the generator will doesn't print its contents\n",
    "# one way to prints the contents of the generator is passing generator object to list constructor\n",
    "\n",
    "for z in x:\n",
    "    print(z,end='--')\n",
    "print(x)\n",
    "\n",
    "# lsit is collection of values while a generator is recipe for producing it\n",
    "# both generator and list comprehensions are iterable\n"
   ]
  },
  {
   "cell_type": "code",
   "execution_count": 7,
   "metadata": {},
   "outputs": [
    {
     "name": "stdout",
     "output_type": "stream",
     "text": [
      "0 1 2 3 4 5 6 7 8 9 10 11 \n",
      "Both pointer have the same values\n"
     ]
    }
   ],
   "source": [
    "# size of the list is limited whereas the size of the generator is unlimited\n",
    "# count() is the generator funtion which generates the infinte number\n",
    "#inorder use the count() we have imiport the count() from the itertools module\n",
    "from itertools import count\n",
    "for val in count():# count is the iterator\n",
    "    print(val,end=' ');\n",
    "    if val>10:break\n",
    "x=[1,2,3]\n",
    "y=[1,2,3]\n",
    "if x is y:# is keyword deals with the memory location\n",
    "    print(\"both point to same memory location\")\n",
    "if x==y:# == deals with the value of the varaible\n",
    "    print(\"\\nBoth pointer have the same values\")"
   ]
  },
  {
   "cell_type": "code",
   "execution_count": 1,
   "metadata": {},
   "outputs": [
    {
     "name": "stdout",
     "output_type": "stream",
     "text": [
      "[0, 1, 4, 9, 16, 25, 36, 49, 64, 81, 100, 121, 144, 169, 196, 225, 256, 289, 324, 361]\n",
      "<generator object gen at 0x00000218496526D8>\n"
     ]
    }
   ],
   "source": [
    "# Generators can be generated two ways \n",
    "# 1. By using the parentheses. 2. BY using the yeild keyword with the for loop\n",
    "#1. By using the parentheses:\n",
    "x=(val**2 for val in range(20))# creating the generators\n",
    "l=list(x);# one way to prints the contents of the generator is passing generator object to list constructor\n",
    "# list() is list constructor\n",
    "print(l);\n",
    "#2. By using the yield keyword with the for loop\n",
    "def gen():\n",
    "    for n in range(20):\n",
    "        yield n**2\n",
    "g2=gen();\n",
    "print(*g2) # generator element can be displayed using * args"
   ]
  },
  {
   "cell_type": "code",
   "execution_count": 7,
   "metadata": {},
   "outputs": [
    {
     "name": "stdout",
     "output_type": "stream",
     "text": [
      "true\n"
     ]
    }
   ],
   "source": [
    "x=4/2\n",
    "if x==2:\n",
    "    print(\"true\")"
   ]
  },
  {
   "cell_type": "code",
   "execution_count": 2,
   "metadata": {},
   "outputs": [
    {
     "name": "stdout",
     "output_type": "stream",
     "text": [
      "kkjf\n"
     ]
    }
   ],
   "source": [
    "from pymongo import MongoClient\n",
    "client = MongoClient()\n",
    "print(\"kkjf\")"
   ]
  },
  {
   "cell_type": "code",
   "execution_count": null,
   "metadata": {},
   "outputs": [],
   "source": []
  }
 ],
 "metadata": {
  "kernelspec": {
   "display_name": "Python 3",
   "language": "python",
   "name": "python3"
  },
  "language_info": {
   "codemirror_mode": {
    "name": "ipython",
    "version": 3
   },
   "file_extension": ".py",
   "mimetype": "text/x-python",
   "name": "python",
   "nbconvert_exporter": "python",
   "pygments_lexer": "ipython3",
   "version": "3.7.2"
  }
 },
 "nbformat": 4,
 "nbformat_minor": 2
}
